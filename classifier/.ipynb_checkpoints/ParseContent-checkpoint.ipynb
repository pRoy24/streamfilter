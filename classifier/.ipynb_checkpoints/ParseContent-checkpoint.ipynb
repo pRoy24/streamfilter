{
 "cells": [
  {
   "cell_type": "code",
   "execution_count": 27,
   "metadata": {},
   "outputs": [],
   "source": [
    "from pymongo import MongoClient\n",
    "client = MongoClient('mongodb://localhost:27017/')\n",
    "import spacy\n",
    "nlp = spacy.load('en_core_web_sm')\n",
    "\n"
   ]
  },
  {
   "cell_type": "code",
   "execution_count": 28,
   "metadata": {},
   "outputs": [],
   "source": [
    "db = client.streamfilterdb\n",
    "collection = db.newscontents\n"
   ]
  },
  {
   "cell_type": "code",
   "execution_count": 30,
   "metadata": {},
   "outputs": [
    {
     "ename": "SyntaxError",
     "evalue": "invalid syntax (<ipython-input-30-59bebeb9eefb>, line 14)",
     "output_type": "error",
     "traceback": [
      "\u001b[0;36m  File \u001b[0;32m\"<ipython-input-30-59bebeb9eefb>\"\u001b[0;36m, line \u001b[0;32m14\u001b[0m\n\u001b[0;31m    if (start_pos == \"PROPN\" or start_pos == \"NOUN\":\u001b[0m\n\u001b[0m                                                   ^\u001b[0m\n\u001b[0;31mSyntaxError\u001b[0m\u001b[0;31m:\u001b[0m invalid syntax\n"
     ]
    }
   ],
   "source": [
    "import pprint\n",
    "from random import randint\n",
    "nlp = spacy.load('en')\n",
    "doc_line_list = []\n",
    "for item in collection.find(): \n",
    "    content_doc = nlp(item['content'])\n",
    "    complete_sentence = \"\"\n",
    "    counter = 0\n",
    "    for sen in content_doc.sents:\n",
    "        sen_text = sen.text\n",
    "        sen_doc = sen.as_doc\n",
    "        new_doc = item.copy()\n",
    "        start_pos = sen[0].pos_\n",
    "\n",
    "        if start_pos == \"PROPN\" or start_pos == \"NOUN\":\n",
    "            if len(complete_sentence) > 10 and len(words) > 5:\n",
    "                counter = 0\n",
    "                new_doc['sentence'] = complete_sentence\n",
    "                del new_doc['_id']\n",
    "                new_doc['contentID'] = randint(1000, 999999)\n",
    "                doc_line_list.append(new_doc)\n",
    "            complete_sentence = sen_text\n",
    "        elif counter < 3:\n",
    "            complete_sentence = complete_sentence + sen_text\n",
    "        else:\n",
    "            pass  \n",
    "        words = complete_sentence.split(\" \")\n",
    "\n"
   ]
  },
  {
   "cell_type": "code",
   "execution_count": null,
   "metadata": {},
   "outputs": [],
   "source": [
    "line_item_collection = db.lineitems\n",
    "for line_item in doc_line_list:\n",
    "    result = line_item_collection.insert(line_item)"
   ]
  }
 ],
 "metadata": {
  "kernelspec": {
   "display_name": "Python 3",
   "language": "python",
   "name": "python3"
  },
  "language_info": {
   "codemirror_mode": {
    "name": "ipython",
    "version": 3
   },
   "file_extension": ".py",
   "mimetype": "text/x-python",
   "name": "python",
   "nbconvert_exporter": "python",
   "pygments_lexer": "ipython3",
   "version": "3.7.0"
  }
 },
 "nbformat": 4,
 "nbformat_minor": 2
}

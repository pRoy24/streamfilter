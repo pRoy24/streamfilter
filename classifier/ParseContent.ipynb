{
 "cells": [
  {
   "cell_type": "code",
   "execution_count": 13,
   "metadata": {},
   "outputs": [],
   "source": [
    "from pymongo import MongoClient\n",
    "client = MongoClient('mongodb://localhost:27017/')\n",
    "import spacy\n",
    "nlp = spacy.load('en_core_web_sm')\n",
    "\n"
   ]
  },
  {
   "cell_type": "code",
   "execution_count": 14,
   "metadata": {},
   "outputs": [],
   "source": [
    "db = client.streamfilterdb\n",
    "collection = db.newscontents\n"
   ]
  },
  {
   "cell_type": "code",
   "execution_count": 15,
   "metadata": {},
   "outputs": [],
   "source": [
    "import pprint\n",
    "from random import randint\n",
    "nlp = spacy.load('en')\n",
    "doc_line_list = []\n",
    "for item in collection.find(): \n",
    "    content_doc = nlp(item['content'])\n",
    "    complete_sentence = \"\"\n",
    "    counter = 0\n",
    "    for sen in content_doc.sents:\n",
    "        sen_text = sen.text\n",
    "        sen_doc = sen.as_doc\n",
    "        new_doc = item.copy()\n",
    "        start_pos = sen[0].pos_\n",
    "        second_pos = sen[1].pos_\n",
    "        if (start_pos == \"PROPN\" or start_pos == \"NOUN\" or second_pos == \"PROPN\" or second_pos == \"NOUN\"):\n",
    "            if len(complete_sentence) > 10 and len(words) > 5:\n",
    "                counter = 0\n",
    "                new_doc['sentence'] = complete_sentence\n",
    "                del new_doc['_id']\n",
    "                new_doc['contentID'] = randint(1000, 999999)\n",
    "                doc_line_list.append(new_doc)\n",
    "            complete_sentence = sen_text\n",
    "        elif counter < 3:\n",
    "            complete_sentence = complete_sentence + sen_text\n",
    "        else:\n",
    "            pass  \n",
    "        words = complete_sentence.split(\" \")\n",
    "\n"
   ]
  },
  {
   "cell_type": "code",
   "execution_count": 16,
   "metadata": {},
   "outputs": [
    {
     "name": "stderr",
     "output_type": "stream",
     "text": [
      "/home/ubuntu/anaconda3/lib/python3.7/site-packages/ipykernel_launcher.py:3: DeprecationWarning: insert is deprecated. Use insert_one or insert_many instead.\n",
      "  This is separate from the ipykernel package so we can avoid doing imports until\n"
     ]
    }
   ],
   "source": [
    "line_item_collection = db.lineitems\n",
    "for line_item in doc_line_list:\n",
    "    result = line_item_collection.insert(line_item)"
   ]
  }
 ],
 "metadata": {
  "kernelspec": {
   "display_name": "Python 3",
   "language": "python",
   "name": "python3"
  },
  "language_info": {
   "codemirror_mode": {
    "name": "ipython",
    "version": 3
   },
   "file_extension": ".py",
   "mimetype": "text/x-python",
   "name": "python",
   "nbconvert_exporter": "python",
   "pygments_lexer": "ipython3",
   "version": "3.7.0"
  }
 },
 "nbformat": 4,
 "nbformat_minor": 2
}
